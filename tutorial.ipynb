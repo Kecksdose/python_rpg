{
 "cells": [
  {
   "cell_type": "markdown",
   "metadata": {
    "deletable": true,
    "editable": true
   },
   "source": [
    "### RPG approach in Python"
   ]
  },
  {
   "cell_type": "code",
   "execution_count": 1,
   "metadata": {
    "collapsed": true,
    "deletable": true,
    "editable": true
   },
   "outputs": [],
   "source": [
    "# For development\n",
    "#%reload_ext autoreload\n",
    "#%autoreload 2\n",
    "from stuff import Hero, Item"
   ]
  },
  {
   "cell_type": "code",
   "execution_count": 2,
   "metadata": {
    "collapsed": false,
    "deletable": true,
    "editable": true
   },
   "outputs": [],
   "source": [
    "hans = Hero('hans', 'hunter')\n",
    "\n",
    "bow = Item('Bow', 'weapon', {'agility': 3}, [1, 2], False, 'Deadly bow.')\n",
    "jeans = Item('Jeans', 'legs', {'strenght': 2}, None, False, 'Blue and cool.')\n",
    "apple = Item('Apple', None, {}, None, True, 'Hey, hey apple.')"
   ]
  },
  {
   "cell_type": "code",
   "execution_count": 3,
   "metadata": {
    "collapsed": false,
    "deletable": true,
    "editable": true
   },
   "outputs": [
    {
     "name": "stdout",
     "output_type": "stream",
     "text": [
      "Bow recieved.\n",
      "Jeans recieved.\n",
      "Apple recieved.\n"
     ]
    }
   ],
   "source": [
    "hans.receive_item(bow)\n",
    "hans.receive_item(jeans)\n",
    "hans.receive_item(apple)"
   ]
  },
  {
   "cell_type": "code",
   "execution_count": 4,
   "metadata": {
    "collapsed": false,
    "deletable": true,
    "editable": true
   },
   "outputs": [
    {
     "name": "stdout",
     "output_type": "stream",
     "text": [
      "Name: hans\n",
      "Class: hunter\n",
      "Level: 1 (0 xp)\n",
      "Attributes:\n",
      "\tstrenght: 1\n",
      "\tagility: 1\n",
      "\tintelligence: 1\n",
      "Damage: [1, 1]\n",
      "\n",
      "Items:\n",
      "\tPosition 1: Bow\n",
      "\tPosition 2: Jeans\n",
      "\tPosition 3: Apple\n"
     ]
    }
   ],
   "source": [
    "hans.describe(show_attributes=True, show_inventory=True)"
   ]
  },
  {
   "cell_type": "code",
   "execution_count": 5,
   "metadata": {
    "collapsed": false,
    "deletable": true,
    "editable": true
   },
   "outputs": [
    {
     "name": "stdout",
     "output_type": "stream",
     "text": [
      "Bow equipped.\n",
      "Name: hans\n",
      "Class: hunter\n",
      "Level: 1 (0 xp)\n",
      "Damage: [2, 3]\n",
      "\n",
      "Items:\n",
      "\tPosition 1: Jeans\n",
      "\tPosition 2: Apple\n"
     ]
    }
   ],
   "source": [
    "hans.equip_item(1)\n",
    "hans.describe(show_inventory=True)"
   ]
  },
  {
   "cell_type": "code",
   "execution_count": 6,
   "metadata": {
    "collapsed": false,
    "deletable": true,
    "editable": true
   },
   "outputs": [
    {
     "name": "stdout",
     "output_type": "stream",
     "text": [
      "Jeans equipped.\n"
     ]
    }
   ],
   "source": [
    "hans.equip_item(1)"
   ]
  },
  {
   "cell_type": "code",
   "execution_count": 7,
   "metadata": {
    "collapsed": false,
    "deletable": true,
    "editable": true
   },
   "outputs": [
    {
     "name": "stdout",
     "output_type": "stream",
     "text": [
      "Name: hans\n",
      "Class: hunter\n",
      "Level: 1 (0 xp)\n",
      "Attributes:\n",
      "\tstrenght: 3\n",
      "\tagility: 4\n",
      "\tintelligence: 1\n",
      "Damage: [2, 3]\n",
      "\n",
      "Items equipped:\n",
      "\tSlot legs: Jeans\n",
      "\tSlot weapon: Bow\n"
     ]
    }
   ],
   "source": [
    "hans.describe(show_attributes=True, show_equipped=True)"
   ]
  },
  {
   "cell_type": "code",
   "execution_count": 8,
   "metadata": {
    "collapsed": false,
    "deletable": true,
    "editable": true
   },
   "outputs": [
    {
     "name": "stdout",
     "output_type": "stream",
     "text": [
      "No item found at slot arms.\n"
     ]
    }
   ],
   "source": [
    "hans.unequip_item('arms')"
   ]
  },
  {
   "cell_type": "code",
   "execution_count": 9,
   "metadata": {
    "collapsed": false,
    "deletable": true,
    "editable": true
   },
   "outputs": [
    {
     "name": "stdout",
     "output_type": "stream",
     "text": [
      "Put Jeans back to inventory.\n"
     ]
    }
   ],
   "source": [
    "hans.unequip_item('legs')"
   ]
  },
  {
   "cell_type": "code",
   "execution_count": 10,
   "metadata": {
    "collapsed": false,
    "deletable": true,
    "editable": true
   },
   "outputs": [
    {
     "name": "stdout",
     "output_type": "stream",
     "text": [
      "Name: hans\n",
      "Class: hunter\n",
      "Level: 1 (0 xp)\n",
      "Attributes:\n",
      "\tstrenght: 1\n",
      "\tagility: 4\n",
      "\tintelligence: 1\n",
      "Damage: [2, 3]\n",
      "\n",
      "Items equipped:\n",
      "\tSlot weapon: Bow\n"
     ]
    }
   ],
   "source": [
    "hans.describe(show_attributes=True, show_equipped=True)"
   ]
  }
 ],
 "metadata": {
  "kernelspec": {
   "display_name": "Python 3",
   "language": "python",
   "name": "python3"
  },
  "language_info": {
   "codemirror_mode": {
    "name": "ipython",
    "version": 3
   },
   "file_extension": ".py",
   "mimetype": "text/x-python",
   "name": "python",
   "nbconvert_exporter": "python",
   "pygments_lexer": "ipython3",
   "version": "3.6.0"
  }
 },
 "nbformat": 4,
 "nbformat_minor": 2
}
