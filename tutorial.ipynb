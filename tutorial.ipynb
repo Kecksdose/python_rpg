{
 "cells": [
  {
   "cell_type": "markdown",
   "metadata": {
    "deletable": true,
    "editable": true
   },
   "source": [
    "### RPG approach in Python"
   ]
  },
  {
   "cell_type": "code",
   "execution_count": 1,
   "metadata": {
    "collapsed": true
   },
   "outputs": [],
   "source": []
  },
  {
   "cell_type": "code",
   "execution_count": 2,
   "metadata": {
    "code_folding": [],
    "collapsed": false,
    "deletable": true,
    "editable": true
   },
   "outputs": [],
   "source": [
    "import copy\n",
    "implemented_attributes = {'strenght', 'agility', 'intelligence'}\n",
    "implemented_slots = {'weapon', 'legs', 'arms', 'chest', None}\n",
    "\n",
    "class Hero:\n",
    "    \"\"\"Basic hero class for characters.\"\"\"\n",
    "    \n",
    "    def __init__(self, name='', \n",
    "                 hero_class='', \n",
    "                 level=1,\n",
    "                 attributes=implemented_attributes,\n",
    "                 hitpoints=10, \n",
    "                 inventory=[],\n",
    "                 equipped={},\n",
    "                 xp_points=0,\n",
    "                 gold=0,\n",
    "                 base_damage=[1,1]):\n",
    "        \"\"\"Returns base hero class.\"\"\"\n",
    "        self.name = name\n",
    "        self.hero_class = hero_class\n",
    "        self.level = level\n",
    "        self.base_attributes = {attributes: 1 for attributes in implemented_attributes}\n",
    "        self.current_attributes = self.base_attributes\n",
    "        self.hitpoints = hitpoints\n",
    "        self.current_hitpoints = hitpoints\n",
    "        self.xp_points = xp_points\n",
    "        \n",
    "        self.inventory = inventory\n",
    "        self.equipped = {slot: None for slot in implemented_slots \n",
    "                         if slot}\n",
    "        self.gold = gold\n",
    "        \n",
    "        self.base_damage = base_damage\n",
    "        self.current_damage = base_damage\n",
    "        self.is_alive = True\n",
    "        \n",
    "    def describe(self, \n",
    "                 show_attributes=False, \n",
    "                 show_inventory=False,\n",
    "                 show_equipped=False):\n",
    "        \"\"\"Describe hero object.\"\"\"\n",
    "        print(f'Name: {self.name}')\n",
    "        print(f'Class: {self.hero_class}')\n",
    "        print(f'Level: {self.level} ({self.xp_points} xp)')\n",
    "        if show_attributes:\n",
    "            print('Attributes:')\n",
    "            for att, val in self.current_attributes.items():\n",
    "                print(f'\\t{att}: {val}')\n",
    "        print(f'Damage: {self.current_damage}')\n",
    "        print()\n",
    "        if show_inventory:\n",
    "            if len(self.inventory) > 0:\n",
    "                print('Items:')\n",
    "                for item_number, item in enumerate(self.inventory, start=1):\n",
    "                    print(f'\\tPosition {item_number}: {item.name}')\n",
    "            else:\n",
    "                print('\\tNo items found...')\n",
    "        if show_equipped:\n",
    "            if any(self.equipped.values()):\n",
    "                print('Items equipped:')\n",
    "                for slot, item in self.equipped.items():\n",
    "                    if item:\n",
    "                        print(f'\\tSlot {slot}: {item.name}')\n",
    "            else:\n",
    "                print('No items equipped...')\n",
    "        \n",
    "    def receive_item(self, item):\n",
    "        \"\"\"Puts Item into inventory.\"\"\"\n",
    "        self.inventory.append(item)\n",
    "        print(f'{item.name} recieved.')\n",
    "    \n",
    "    def equip_item(self, item_number):\n",
    "        \"\"\"Equips/consumes item.\"\"\"\n",
    "        if len(self.inventory) == 0:\n",
    "            print('No items in inventory.')\n",
    "            return\n",
    "        elif item_number > len(self.inventory) or item_number < 1:\n",
    "            print('Item not found.')\n",
    "            return\n",
    "        \n",
    "        # Until now, the item must exist.\n",
    "        if self.inventory[item_number - 1].is_consumable == True:\n",
    "            # TODO: Apply functionality\n",
    "            item_name = self.inventory.pop(item_number - 1).name\n",
    "            print(f'{item_name} consumed. It was tasty.')\n",
    "            return\n",
    "            \n",
    "        # Try to equip item\n",
    "        item_slot = self.inventory[item_number - 1].slot\n",
    "        old_item = self.equipped[item_slot]\n",
    "        self.equipped[item_slot] = self.inventory.pop(item_number - 1)\n",
    "        if old_item:\n",
    "            self.inventory.append(old_item)\n",
    "        print(f'{self.equipped[item_slot].name} equipped.')\n",
    "        self._update_attributes()\n",
    "        \n",
    "    def unequip_item(self, slot):\n",
    "        \"\"\"Unequips item and puts it back to inventory.\"\"\"\n",
    "        if not slot in self.equipped.keys():\n",
    "            print('No such slot available. Chose from the following:')\n",
    "            print(list(self.equipped.keys()))\n",
    "            return\n",
    "        if self.equipped[slot]:\n",
    "            self.inventory.append(self.equipped[slot])\n",
    "            print(f'Put {self.equipped[slot].name} back to inventory.')\n",
    "            self.equipped[slot] = None\n",
    "            self._update_attributes()\n",
    "        else:\n",
    "            print(f'No item found at slot {slot}.')\n",
    "             \n",
    "        \n",
    "    def _update_attributes(self):\n",
    "        \"\"\"Updates all attributes (e.g. after equipping an item).\"\"\"\n",
    "        self.current_attributes = copy.deepcopy(self.base_attributes)\n",
    "        self.current_damage = copy.deepcopy(self.base_damage)\n",
    "        for item in self.equipped.values():\n",
    "            if item:\n",
    "                # Update attributes\n",
    "                for attr, val in item.attribute_boni.items():\n",
    "                    if attr not in self.base_attributes.keys():\n",
    "                        # This case should never happen.\n",
    "                        print(f'ERROR: Attribute {attr} not found. Will skip it.')\n",
    "                    else:\n",
    "                        self.current_attributes[attr] += val\n",
    "                # Update damage\n",
    "                if item.damage_bonus:\n",
    "                    self.current_damage[0] += item.damage_bonus[0]\n",
    "                    self.current_damage[1] += item.damage_bonus[1]\n",
    "                    \n",
    "                    \n",
    "class Item():\n",
    "    \"\"\"Basic item class.\"\"\"\n",
    "    \n",
    "    def __init__(self, \n",
    "                 name,\n",
    "                 slot,\n",
    "                 attribute_boni,\n",
    "                 damage_bonus,\n",
    "                 is_consumable,\n",
    "                 description=''\n",
    "                 ):\n",
    "        self.name = name\n",
    "        self.slot = slot\n",
    "        self.attribute_boni = attribute_boni\n",
    "        self.damage_bonus = damage_bonus\n",
    "        self.is_consumable = is_consumable\n",
    "        self.description = description\n",
    "        \n",
    "    def describe(self):\n",
    "        \"\"\"Describe item object.\"\"\"\n",
    "        print(f'Name: {self.name}')\n",
    "        print(f'Slot: {self.slot}')\n",
    "        if len(self.attribute_boni) > 0:\n",
    "            print('Attribute boni:')\n",
    "            for att, val in self.attribute_boni.items():\n",
    "                print(f'\\t{att}: {val:+}')\n",
    "        if self.damage_bonus:\n",
    "            print(f'Damage: {self.damage_bonus[0]} - {self.damage_bonus[1]}')\n",
    "        if self.description:\n",
    "            print(f'Description: {self.description}')"
   ]
  },
  {
   "cell_type": "code",
   "execution_count": 3,
   "metadata": {
    "collapsed": false,
    "deletable": true,
    "editable": true
   },
   "outputs": [],
   "source": [
    "hans = Hero('hans', 'hunter')\n",
    "bow = Item('Bow', 'weapon', {'agility': 3}, [1, 2], False, 'Deadly bow.')\n",
    "jeans = Item('Jeans', 'legs', {'strenght': 2}, None, False, 'Blue and cool.')\n",
    "apple = Item('Apple', None, {}, None, True, 'Hey, hey apple.')"
   ]
  },
  {
   "cell_type": "code",
   "execution_count": 4,
   "metadata": {
    "collapsed": false,
    "deletable": true,
    "editable": true
   },
   "outputs": [
    {
     "name": "stdout",
     "output_type": "stream",
     "text": [
      "Bow recieved.\n",
      "Jeans recieved.\n",
      "Apple recieved.\n"
     ]
    }
   ],
   "source": [
    "hans.receive_item(bow)\n",
    "hans.receive_item(jeans)\n",
    "hans.receive_item(apple)"
   ]
  },
  {
   "cell_type": "code",
   "execution_count": 5,
   "metadata": {
    "collapsed": false,
    "deletable": true,
    "editable": true
   },
   "outputs": [
    {
     "name": "stdout",
     "output_type": "stream",
     "text": [
      "Name: hans\n",
      "Class: hunter\n",
      "Level: 1 (0 xp)\n",
      "Attributes:\n",
      "\tagility: 1\n",
      "\tstrenght: 1\n",
      "\tintelligence: 1\n",
      "Damage: [1, 1]\n",
      "\n",
      "Items:\n",
      "\tPosition 1: Bow\n",
      "\tPosition 2: Jeans\n",
      "\tPosition 3: Apple\n"
     ]
    }
   ],
   "source": [
    "hans.describe(show_attributes=True, show_inventory=True)"
   ]
  },
  {
   "cell_type": "code",
   "execution_count": 6,
   "metadata": {
    "collapsed": false
   },
   "outputs": [
    {
     "name": "stdout",
     "output_type": "stream",
     "text": [
      "Bow equipped.\n",
      "Name: hans\n",
      "Class: hunter\n",
      "Level: 1 (0 xp)\n",
      "Damage: [2, 3]\n",
      "\n",
      "Items:\n",
      "\tPosition 1: Jeans\n",
      "\tPosition 2: Apple\n"
     ]
    }
   ],
   "source": [
    "hans.equip_item(1)\n",
    "hans.describe(show_inventory=True)"
   ]
  },
  {
   "cell_type": "code",
   "execution_count": 7,
   "metadata": {
    "collapsed": false
   },
   "outputs": [
    {
     "name": "stdout",
     "output_type": "stream",
     "text": [
      "Jeans equipped.\n"
     ]
    }
   ],
   "source": [
    "hans.equip_item(1)"
   ]
  },
  {
   "cell_type": "code",
   "execution_count": 8,
   "metadata": {
    "collapsed": false
   },
   "outputs": [
    {
     "name": "stdout",
     "output_type": "stream",
     "text": [
      "Name: hans\n",
      "Class: hunter\n",
      "Level: 1 (0 xp)\n",
      "Attributes:\n",
      "\tagility: 4\n",
      "\tstrenght: 3\n",
      "\tintelligence: 1\n",
      "Damage: [2, 3]\n",
      "\n",
      "Items equipped:\n",
      "\tSlot legs: Jeans\n",
      "\tSlot weapon: Bow\n"
     ]
    }
   ],
   "source": [
    "hans.describe(show_attributes=True, show_equipped=True)"
   ]
  },
  {
   "cell_type": "code",
   "execution_count": 9,
   "metadata": {
    "collapsed": false
   },
   "outputs": [
    {
     "name": "stdout",
     "output_type": "stream",
     "text": [
      "No item found at slot arms.\n"
     ]
    }
   ],
   "source": [
    "hans.unequip_item('arms')"
   ]
  },
  {
   "cell_type": "code",
   "execution_count": 10,
   "metadata": {
    "collapsed": false
   },
   "outputs": [
    {
     "name": "stdout",
     "output_type": "stream",
     "text": [
      "Put Jeans back to inventory.\n"
     ]
    }
   ],
   "source": [
    "hans.unequip_item('legs')"
   ]
  },
  {
   "cell_type": "code",
   "execution_count": 11,
   "metadata": {
    "collapsed": false
   },
   "outputs": [
    {
     "name": "stdout",
     "output_type": "stream",
     "text": [
      "Name: hans\n",
      "Class: hunter\n",
      "Level: 1 (0 xp)\n",
      "Attributes:\n",
      "\tagility: 4\n",
      "\tstrenght: 1\n",
      "\tintelligence: 1\n",
      "Damage: [2, 3]\n",
      "\n",
      "Items equipped:\n",
      "\tSlot weapon: Bow\n"
     ]
    }
   ],
   "source": [
    "hans.describe(show_attributes=True, show_equipped=True)"
   ]
  }
 ],
 "metadata": {
  "kernelspec": {
   "display_name": "Python 3",
   "language": "python",
   "name": "python3"
  },
  "language_info": {
   "codemirror_mode": {
    "name": "ipython",
    "version": 3
   },
   "file_extension": ".py",
   "mimetype": "text/x-python",
   "name": "python",
   "nbconvert_exporter": "python",
   "pygments_lexer": "ipython3",
   "version": "3.6.0"
  }
 },
 "nbformat": 4,
 "nbformat_minor": 2
}
